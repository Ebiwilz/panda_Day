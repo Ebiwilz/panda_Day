{
 "cells": [
  {
   "cell_type": "code",
   "execution_count": 10,
   "id": "802f9e0b",
   "metadata": {
    "scrolled": true
   },
   "outputs": [
    {
     "name": "stdout",
     "output_type": "stream",
     "text": [
      "81000.0\n"
     ]
    }
   ],
   "source": [
    "price = 90000\n",
    "\n",
    "if price >= 100000:\n",
    "    discount = price *0.2\n",
    "    print(price -discount)\n",
    "elif price >= 50000 and price <= 99000:\n",
    "    discount= price *0.1 \n",
    "    print(price - discount)\n",
    "else:\n",
    "    print(\"N/A\")"
   ]
  },
  {
   "cell_type": "code",
   "execution_count": 30,
   "id": "86f0c1ff",
   "metadata": {},
   "outputs": [],
   "source": [
    "student_list =[\"Josh\", \"Lilian\", \"Chef\", \"Law\"]\n",
    "\n",
    "student_list[3]\n",
    "\n",
    "student_list.pop()\n",
    "\n",
    "student_list.reverse()"
   ]
  },
  {
   "cell_type": "code",
   "execution_count": 26,
   "id": "d1b037c5",
   "metadata": {},
   "outputs": [
    {
     "name": "stdout",
     "output_type": "stream",
     "text": [
      "['Josh', 'Lilian', 'Chef']\n"
     ]
    }
   ],
   "source": [
    "print (student_list)"
   ]
  },
  {
   "cell_type": "code",
   "execution_count": 28,
   "id": "ca0b2047",
   "metadata": {
    "scrolled": true
   },
   "outputs": [
    {
     "name": "stdout",
     "output_type": "stream",
     "text": [
      "['Chef', 'Lilian', 'Josh']\n"
     ]
    }
   ],
   "source": [
    "print (student_list)"
   ]
  },
  {
   "cell_type": "code",
   "execution_count": 35,
   "id": "d5ed913b",
   "metadata": {},
   "outputs": [
    {
     "name": "stdout",
     "output_type": "stream",
     "text": [
      "67\n",
      "89\n"
     ]
    }
   ],
   "source": [
    "my_dict ={\n",
    "    \"Age\":[25,45,67,89],\n",
    "    \"sex\":[\"M\",\"F\",\"M\",\"F\"], }\n",
    "\n",
    "print(my_dict[\"Age\"][2])\n",
    "print(my_dict[\"Age\"][3])"
   ]
  }
 ],
 "metadata": {
  "kernelspec": {
   "display_name": "Python 3 (ipykernel)",
   "language": "python",
   "name": "python3"
  },
  "language_info": {
   "codemirror_mode": {
    "name": "ipython",
    "version": 3
   },
   "file_extension": ".py",
   "mimetype": "text/x-python",
   "name": "python",
   "nbconvert_exporter": "python",
   "pygments_lexer": "ipython3",
   "version": "3.11.3"
  }
 },
 "nbformat": 4,
 "nbformat_minor": 5
}
